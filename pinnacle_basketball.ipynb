{
 "cells": [
  {
   "cell_type": "code",
   "execution_count": 1,
   "metadata": {},
   "outputs": [],
   "source": [
    "from selenium import webdriver\n",
    "import json, unidecode, time"
   ]
  },
  {
   "cell_type": "code",
   "execution_count": 2,
   "metadata": {},
   "outputs": [],
   "source": [
    "all_items = []"
   ]
  },
  {
   "cell_type": "code",
   "execution_count": 3,
   "metadata": {},
   "outputs": [],
   "source": [
    "driver = webdriver.Chrome()\n",
    "driver.get('https://www.pinnacle.com/en/basketball/matchups/')\n",
    "driver.maximize_window()"
   ]
  },
  {
   "cell_type": "code",
   "execution_count": 4,
   "metadata": {},
   "outputs": [
    {
     "name": "stderr",
     "output_type": "stream",
     "text": [
      "<ipython-input-4-2b21bd4af441>:1: DeprecationWarning: find_elements_by_* commands are deprecated. Please use find_elements() instead\n",
      "  for data in driver.find_elements_by_class_name('style_row__3q4g_.style_row__3hCMX'):\n",
      "C:\\Users\\Theo\\AppData\\Local\\Packages\\PythonSoftwareFoundation.Python.3.9_qbz5n2kfra8p0\\LocalCache\\local-packages\\Python39\\site-packages\\selenium\\webdriver\\remote\\webelement.py:463: UserWarning: find_elements_by_* commands are deprecated. Please use find_elements() instead\n",
      "  warnings.warn(\"find_elements_by_* commands are deprecated. Please use find_elements() instead\")\n",
      "C:\\Users\\Theo\\AppData\\Local\\Packages\\PythonSoftwareFoundation.Python.3.9_qbz5n2kfra8p0\\LocalCache\\local-packages\\Python39\\site-packages\\selenium\\webdriver\\remote\\webelement.py:445: UserWarning: find_element_by_* commands are deprecated. Please use find_element() instead\n",
      "  warnings.warn(\"find_element_by_* commands are deprecated. Please use find_element() instead\")\n",
      "C:\\Users\\Theo\\AppData\\Local\\Packages\\PythonSoftwareFoundation.Python.3.9_qbz5n2kfra8p0\\LocalCache\\local-packages\\Python39\\site-packages\\selenium\\webdriver\\remote\\webelement.py:358: UserWarning: find_elements_by_* commands are deprecated. Please use find_elements() instead\n",
      "  warnings.warn(\"find_elements_by_* commands are deprecated. Please use find_elements() instead\")\n"
     ]
    }
   ],
   "source": [
    "for data in driver.find_elements_by_class_name('style_row__3q4g_.style_row__3hCMX'):\n",
    "    item = dict()\n",
    "    item['FirstTeam'] = data.find_elements_by_class_name('ellipsis.event-row-participant')[0].text\n",
    "    item['SecondTeam'] = data.find_elements_by_class_name('ellipsis.event-row-participant')[1].text\n",
    "    item['Time'] = data.find_element_by_class_name('style_matchupDate__1gnX6').text\n",
    "    item['Team1spread'] = \\\n",
    "    data.find_elements_by_class_name('style_buttons__XEQem')[0].find_elements_by_tag_name('button')[0].text.replace(\n",
    "        '\\n', ' , ')\n",
    "    item['Team2spread'] = \\\n",
    "    data.find_elements_by_class_name('style_buttons__XEQem')[0].find_elements_by_tag_name('button')[1].text.replace(\n",
    "        '\\n', ' , ')\n",
    "    item['Team1money'] = \\\n",
    "    data.find_elements_by_class_name('style_buttons__XEQem')[1].find_elements_by_tag_name('button')[0].text\n",
    "    item['Team2money'] = \\\n",
    "    data.find_elements_by_class_name('style_buttons__XEQem')[1].find_elements_by_tag_name('button')[1].text\n",
    "    item['total_over'] = \\\n",
    "    data.find_elements_by_class_name('style_buttons__XEQem')[2].find_elements_by_tag_name('button')[0].text.replace(\n",
    "        '\\n', ' , ')\n",
    "    item['total_under'] = \\\n",
    "    data.find_elements_by_class_name('style_buttons__XEQem')[2].find_elements_by_tag_name('button')[1].text.replace(\n",
    "        '\\n', ' , ')\n",
    "    all_items.append(item)\n",
    "driver.close()"
   ]
  },
  {
   "cell_type": "code",
   "execution_count": 19,
   "metadata": {},
   "outputs": [
    {
     "data": {
      "text/plain": [
       "20"
      ]
     },
     "execution_count": 19,
     "metadata": {},
     "output_type": "execute_result"
    }
   ],
   "source": [
    "len(all_items)"
   ]
  },
  {
   "cell_type": "code",
   "execution_count": 5,
   "metadata": {},
   "outputs": [
    {
     "data": {
      "text/plain": [
       "[{'FirstTeam': 'Portland Trail Blazers',\n",
       "  'SecondTeam': 'Cleveland Cavaliers',\n",
       "  'Time': '19:10',\n",
       "  'Team1spread': '-5.0 , 1.917',\n",
       "  'Team2spread': '+5.0 , 1.990',\n",
       "  'Team1money': '1.497',\n",
       "  'Team2money': '2.790',\n",
       "  'total_over': '216.5 , 1.943',\n",
       "  'total_under': '216.5 , 1.961'},\n",
       " {'FirstTeam': 'Boston Celtics',\n",
       "  'SecondTeam': 'Orlando Magic',\n",
       "  'Time': '19:10',\n",
       "  'Team1spread': '-6.5 , 1.943',\n",
       "  'Team2spread': '+6.5 , 1.961',\n",
       "  'Team1money': '1.398',\n",
       "  'Team2money': '3.190',\n",
       "  'total_over': '213 , 2.030',\n",
       "  'total_under': '213 , 1.877'},\n",
       " {'FirstTeam': 'Toronto Raptors',\n",
       "  'SecondTeam': 'Washington Wizards',\n",
       "  'Time': '19:10',\n",
       "  'Team1spread': '+3.5 , 1.952',\n",
       "  'Team2spread': '-3.5 , 1.952',\n",
       "  'Team1money': '2.410',\n",
       "  'Team2money': '1.641',\n",
       "  'total_over': '212 , 1.934',\n",
       "  'total_under': '212 , 1.970'},\n",
       " {'FirstTeam': 'Chicago Bulls',\n",
       "  'SecondTeam': 'Philadelphia 76ers',\n",
       "  'Time': '19:10',\n",
       "  'Team1spread': '+2.0 , 1.952',\n",
       "  'Team2spread': '-2.0 , 1.952',\n",
       "  'Team1money': '2.130',\n",
       "  'Team2money': '1.806',\n",
       "  'total_over': '215.5 , 1.970',\n",
       "  'total_under': '215.5 , 1.934'},\n",
       " {'FirstTeam': 'New York Knicks',\n",
       "  'SecondTeam': 'Indiana Pacers',\n",
       "  'Time': '19:10',\n",
       "  'Team1spread': '+1.0 , 1.970',\n",
       "  'Team2spread': '-1.0 , 1.934',\n",
       "  'Team1money': '2.010',\n",
       "  'Team2money': '1.900',\n",
       "  'total_over': '216 , 1.980',\n",
       "  'total_under': '216 , 1.925'},\n",
       " {'FirstTeam': 'Atlanta Hawks',\n",
       "  'SecondTeam': 'Brooklyn Nets',\n",
       "  'Time': '19:40',\n",
       "  'Team1spread': '+5.0 , 1.952',\n",
       "  'Team2spread': '-5.0 , 1.952',\n",
       "  'Team1money': '2.800',\n",
       "  'Team2money': '1.492',\n",
       "  'total_over': '220 , 1.909',\n",
       "  'total_under': '220 , 2.000'},\n",
       " {'FirstTeam': 'Denver Nuggets',\n",
       "  'SecondTeam': 'Memphis Grizzlies',\n",
       "  'Time': '20:10',\n",
       "  'Team1spread': '+1.0 , 1.925',\n",
       "  'Team2spread': '-1.0 , 1.980',\n",
       "  'Team1money': '1.970',\n",
       "  'Team2money': '1.934',\n",
       "  'total_over': '215.5 , 1.952',\n",
       "  'total_under': '215.5 , 1.952'},\n",
       " {'FirstTeam': 'Los Angeles Clippers',\n",
       "  'SecondTeam': 'Minnesota Timberwolves',\n",
       "  'Time': '20:10',\n",
       "  'Team1spread': '-1.5 , 1.943',\n",
       "  'Team2spread': '+1.5 , 1.961',\n",
       "  'Team1money': '1.869',\n",
       "  'Team2money': '2.050',\n",
       "  'total_over': '213 , 2.010',\n",
       "  'total_under': '213 , 1.900'},\n",
       " {'FirstTeam': 'Dallas Mavericks',\n",
       "  'SecondTeam': 'San Antonio Spurs',\n",
       "  'Time': '20:40',\n",
       "  'Team1spread': '-1.0 , 2.010',\n",
       "  'Team2spread': '+1.0 , 1.892',\n",
       "  'Team1money': '1.961',\n",
       "  'Team2money': '1.943',\n",
       "  'total_over': '216 , 1.900',\n",
       "  'total_under': '216 , 2.010'},\n",
       " {'FirstTeam': 'New Orleans Pelicans',\n",
       "  'SecondTeam': 'Sacramento Kings',\n",
       "  'Time': '22:10',\n",
       "  'Team1spread': '+4.5 , 1.961',\n",
       "  'Team2spread': '-4.5 , 1.943',\n",
       "  'Team1money': '2.600',\n",
       "  'Team2money': '1.558',\n",
       "  'total_over': '219.5 , 1.943',\n",
       "  'total_under': '219.5 , 1.961'},\n",
       " {'FirstTeam': 'Charlotte Hornets',\n",
       "  'SecondTeam': 'Golden State Warriors',\n",
       "  'Time': '22:10',\n",
       "  'Team1spread': '+6.0 , 1.943',\n",
       "  'Team2spread': '-6.0 , 1.961',\n",
       "  'Team1money': '2.970',\n",
       "  'Team2money': '1.446',\n",
       "  'total_over': '226.5 , 1.925',\n",
       "  'total_under': '226.5 , 1.970'},\n",
       " {'FirstTeam': 'BC Lokomotiv Kuban Krasnodar',\n",
       "  'SecondTeam': 'Metropolitans 92',\n",
       "  'Time': '12:30',\n",
       "  'Team1spread': '-6.5 , 1.961',\n",
       "  'Team2spread': '+6.5 , 1.892',\n",
       "  'Team1money': '1.374',\n",
       "  'Team2money': '3.210',\n",
       "  'total_over': '169 , 1.952',\n",
       "  'total_under': '169 , 1.900'},\n",
       " {'FirstTeam': 'Bursaspor',\n",
       "  'SecondTeam': 'KK Cedevita Olimpija',\n",
       "  'Time': '13:00',\n",
       "  'Team1spread': '+4.0 , 1.943',\n",
       "  'Team2spread': '-4.0 , 1.900',\n",
       "  'Team1money': '2.440',\n",
       "  'Team2money': '1.591',\n",
       "  'total_over': '164.5 , 1.970',\n",
       "  'total_under': '164.5 , 1.884'},\n",
       " {'FirstTeam': 'KK Buducnost Voli',\n",
       "  'SecondTeam': 'Virtus Bologna',\n",
       "  'Time': '14:00',\n",
       "  'Team1spread': '+4.5 , 1.952',\n",
       "  'Team2spread': '-4.5 , 1.892',\n",
       "  'Team1money': '2.880',\n",
       "  'Team2money': '1.446',\n",
       "  'total_over': '163 , 1.900',\n",
       "  'total_under': '163 , 1.952'},\n",
       " {'FirstTeam': 'Ratiopharm Ulm',\n",
       "  'SecondTeam': 'Reyer Venezia',\n",
       "  'Time': '14:30',\n",
       "  'Team1spread': '-1.0 , 1.900',\n",
       "  'Team2spread': '+1.0 , 1.952',\n",
       "  'Team1money': '1.862',\n",
       "  'Team2money': '1.990',\n",
       "  'total_over': '156 , 1.892',\n",
       "  'total_under': '156 , 1.961'},\n",
       " {'FirstTeam': 'Valencia Basket',\n",
       "  'SecondTeam': 'CB Gran Canaria',\n",
       "  'Time': '15:30',\n",
       "  'Team1spread': '-6.5 , 1.925',\n",
       "  'Team2spread': '+6.5 , 1.925',\n",
       "  'Team1money': '1.364',\n",
       "  'Team2money': '3.270',\n",
       "  'total_over': '158 , 1.943',\n",
       "  'total_under': '158 , 1.909'},\n",
       " {'FirstTeam': 'Teuta Durres',\n",
       "  'SecondTeam': 'Partizani',\n",
       "  'Time': '13:00',\n",
       "  'Team1spread': '-29.5 , 1.826',\n",
       "  'Team2spread': '+29.5 , 1.840',\n",
       "  'Team1money': '1.009',\n",
       "  'Team2money': '18.240',\n",
       "  'total_over': '159 , 1.813',\n",
       "  'total_under': '159 , 1.854'}]"
      ]
     },
     "execution_count": 5,
     "metadata": {},
     "output_type": "execute_result"
    }
   ],
   "source": [
    "all_items"
   ]
  },
  {
   "cell_type": "code",
   "execution_count": null,
   "metadata": {},
   "outputs": [],
   "source": []
  }
 ],
 "metadata": {
  "interpreter": {
   "hash": "3bd6d6fe350fd54602f328fbe7fc95aa0dfe248b81d975b4dda047397d82f04c"
  },
  "kernelspec": {
   "display_name": "Python 3.9.7 64-bit (windows store)",
   "name": "python3"
  },
  "language_info": {
   "codemirror_mode": {
    "name": "ipython",
    "version": 3
   },
   "file_extension": ".py",
   "mimetype": "text/x-python",
   "name": "python",
   "nbconvert_exporter": "python",
   "pygments_lexer": "ipython3",
   "version": "3.9.7"
  },
  "orig_nbformat": 4
 },
 "nbformat": 4,
 "nbformat_minor": 2
}
